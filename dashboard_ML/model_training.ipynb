{
 "cells": [
  {
   "cell_type": "code",
   "execution_count": null,
   "metadata": {},
   "outputs": [],
   "source": [
    "# Import libraries\n",
    "import pandas as pd\n",
    "from sklearn.model_selection import train_test_split\n",
    "from sklearn.ensemble import RandomForestClassifier\n",
    "from sklearn.model_selection import GridSearchCV, RandomizedSearchCV\n",
    "from sklearn.metrics import accuracy_score"
   ]
  },
  {
   "cell_type": "code",
   "execution_count": null,
   "metadata": {},
   "outputs": [],
   "source": [
    "# Load the data. make sure to replace 'the_path_to_the_data.csv' with the actual file path.\n",
    "data = pd.read_csv(\"the_path_to_the_data.csv\")\n",
    "\n",
    "# Clean and Transform the data if necessary\n",
    "# ....\n",
    "# ....\n",
    "# ...."
   ]
  },
  {
   "cell_type": "code",
   "execution_count": null,
   "metadata": {},
   "outputs": [],
   "source": [
    "# A list of columns(Features) you do not want to train the model on with the intention to remove them.\n",
    "X_drop_cols = [\"variable_1\", \"variable_1\", \"variable_1\", \"variable_1\", \"variable_1\"]"
   ]
  },
  {
   "cell_type": "code",
   "execution_count": null,
   "metadata": {},
   "outputs": [],
   "source": [
    "# Separate features (X) and target variable (y)\n",
    "X = data.drop(X_drop_cols + [\"target_variable\"], axis=1)  \n",
    "# Replace \"target_variable\" with the actual target column name here \n",
    "\n",
    "y = data[\"target_variable\"]"
   ]
  },
  {
   "cell_type": "code",
   "execution_count": null,
   "metadata": {},
   "outputs": [],
   "source": [
    "# Split data into train, validation, and test sets.\n",
    "# 80% of the initial data will be assigned to the train set.\n",
    "# 10% will be assigned to the validation set.\n",
    "# another 10% will be used as the hold out (to represent `new data` going into the already trained model.)\n",
    "\n",
    "X_train, X_test_val, y_train, y_test_val = train_test_split(X, y, test_size=0.2, random_state=42)\n",
    "\n",
    "X_val, X_test, y_val, y_test = train_test_split(X_test_val, y_test_val, test_size=0.5, random_state=42)\n",
    "\n",
    "# We use `random_state=42` for reproducibility on different seassion or computer."
   ]
  },
  {
   "cell_type": "markdown",
   "metadata": {},
   "source": [
    "##### Imporve model performence by using different combinations of hyperparameter "
   ]
  },
  {
   "cell_type": "code",
   "execution_count": null,
   "metadata": {},
   "outputs": [],
   "source": [
    "# Define hyperparameter search space\n",
    "param_grid = {\n",
    "    \"n_estimators\": [100, 200, 300],\n",
    "    \"max_depth\": [4, 6, 8],\n",
    "    \"min_samples_split\": [2, 5, 10],\n",
    "    \"min_samples_leaf\": [1, 2, 4],\n",
    "}\n",
    "\n",
    "# Create a RandomForestRegressor model\n",
    "rf_model = RandomForestClassifier(random_state=42)\n",
    "\n",
    "# Use RandomizedSearchCV for hyperparameter tuning with cross-validation\n",
    "grid_search  = GridSearchCV(\n",
    "    rf_model, \n",
    "    param_grid=param_grid, \n",
    "    cv=5, \n",
    "    scoring=\"accuracy\", \n",
    "    random_state=42\n",
    ")\n",
    "\n",
    "grid_search .fit(X_train, y_train)\n",
    "\n",
    "# Get the best model with tuned hyperparameters (The set of estimator that achieved the best accuracy)\n",
    "best_rf_model = grid_search .best_estimator_\n",
    "\n",
    "# You can access the tuned hyperparameters using best_rf_model.get_params()\n",
    "print(\"Best Hyperparameters:\", best_rf_model.get_params())\n",
    "\n",
    "# Train the best model on the entire training set.\n",
    "best_rf_model.fit(X_train, y_train)\n",
    "\n",
    "# Make predictions on the validation set (for the model evaluation)\n",
    "y_pred_val = best_rf_model.predict(X_val)\n",
    "\n",
    "# Evaluate the model performance on the validation set (e.g., using accuracy)\n",
    "validation_accuracy = accuracy_score(y_val, y_pred_val)\n",
    "print(\"Random Forest model validation accuracy:\", validation_accuracy)"
   ]
  },
  {
   "cell_type": "markdown",
   "metadata": {},
   "source": [
    "#### New data (test dataset)"
   ]
  },
  {
   "cell_type": "code",
   "execution_count": null,
   "metadata": {},
   "outputs": [],
   "source": [
    "# Make predictions on the completely unseen test set (final evaluation)\n",
    "y_pred_test = best_rf_model.predict(X_test)\n",
    "\n",
    "# Evaluate the model performance on the test set (e.g., using accuracy)\n",
    "test_accuracy = accuracy_score(y_test, y_pred_test)\n",
    "print(\"Random Forest model Test Accuracy:\", test_accuracy)"
   ]
  }
 ],
 "metadata": {
  "kernelspec": {
   "display_name": ".venv",
   "language": "python",
   "name": "python3"
  },
  "language_info": {
   "name": "python",
   "version": "3.10.4"
  }
 },
 "nbformat": 4,
 "nbformat_minor": 2
}
